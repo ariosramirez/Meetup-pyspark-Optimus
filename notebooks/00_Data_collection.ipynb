{
 "cells": [
  {
   "cell_type": "markdown",
   "metadata": {},
   "source": [
    "#### Descargar \"train dataset\"\n",
    "***"
   ]
  },
  {
   "cell_type": "code",
   "execution_count": 1,
   "metadata": {},
   "outputs": [
    {
     "name": "stdout",
     "output_type": "stream",
     "text": [
      "--2019-11-28 00:17:43--  https://meli-data-challenge.s3.amazonaws.com/train.csv.gz\n",
      "Resolving meli-data-challenge.s3.amazonaws.com (meli-data-challenge.s3.amazonaws.com)... 52.216.161.115\n",
      "Connecting to meli-data-challenge.s3.amazonaws.com (meli-data-challenge.s3.amazonaws.com)|52.216.161.115|:443... connected.\n",
      "HTTP request sent, awaiting response... 200 OK\n",
      "Length: 691651384 (660M) [application/x-gzip]\n",
      "Saving to: ‘../data/train.csv.gz.1’\n",
      "\n",
      "train.csv.gz.1      100%[===================>] 659.61M  3.63MB/s    in 3m 41s  \n",
      "\n",
      "2019-11-28 00:21:28 (2.99 MB/s) - ‘../data/train.csv.gz.1’ saved [691651384/691651384]\n",
      "\n"
     ]
    }
   ],
   "source": [
    "! wget --directory-prefix=../data https://meli-data-challenge.s3.amazonaws.com/train.csv.gz"
   ]
  },
  {
   "cell_type": "markdown",
   "metadata": {},
   "source": [
    "#### descomprimir el dataset\n",
    "***"
   ]
  },
  {
   "cell_type": "code",
   "execution_count": 13,
   "metadata": {},
   "outputs": [
    {
     "name": "stdout",
     "output_type": "stream",
     "text": [
      "gzip: ../data/train.csv: unknown suffix -- ignored\n"
     ]
    }
   ],
   "source": [
    "!gunzip -f ../data/train.csv.gz  ../data/train.csv"
   ]
  },
  {
   "cell_type": "markdown",
   "metadata": {},
   "source": [
    "## Genial, ya tienes los datos"
   ]
  },
  {
   "cell_type": "markdown",
   "metadata": {},
   "source": [
    "![SegmentLocal](https://media.giphy.com/media/fQim4EyJXIUaBn9uRe/giphy.gif \"segment\")"
   ]
  }
 ],
 "metadata": {
  "kernelspec": {
   "display_name": "Python 3",
   "language": "python",
   "name": "python3"
  },
  "language_info": {
   "codemirror_mode": {
    "name": "ipython",
    "version": 3
   },
   "file_extension": ".py",
   "mimetype": "text/x-python",
   "name": "python",
   "nbconvert_exporter": "python",
   "pygments_lexer": "ipython3",
   "version": "3.7.3"
  }
 },
 "nbformat": 4,
 "nbformat_minor": 2
}
